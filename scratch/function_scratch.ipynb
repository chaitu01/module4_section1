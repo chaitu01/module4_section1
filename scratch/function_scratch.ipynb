{
 "cells": [
  {
   "cell_type": "code",
   "execution_count": 1,
   "metadata": {},
   "outputs": [],
   "source": [
    "import pandas as pd\n",
    "from sklearn.preprocessing import MinMaxScaler, StandardScaler\n",
    "from sklearn.preprocessing import OneHotEncoder,LabelEncoder,OrdinalEncoder\n",
    "from sklearn import preprocessing\n",
    "import numpy as np\n",
    "from anytree import Node, RenderTree,NodeMixin\n",
    "from anytree.exporter import DotExporter"
   ]
  },
  {
   "cell_type": "code",
   "execution_count": 2,
   "metadata": {},
   "outputs": [
    {
     "data": {
      "text/plain": "OneHotEncoder(handle_unknown='ignore')"
     },
     "execution_count": 2,
     "metadata": {},
     "output_type": "execute_result"
    }
   ],
   "source": [
    "enc = OneHotEncoder(handle_unknown='ignore')\n",
    "X = [['Male', 1], ['Female', 3], ['Female', 2]]\n",
    "enc.fit(X)"
   ]
  },
  {
   "cell_type": "code",
   "execution_count": 4,
   "metadata": {},
   "outputs": [
    {
     "data": {
      "text/plain": [
       "array([[1., 0., 1., 0., 0.],\n",
       "       [0., 1., 0., 0., 0.]])"
      ]
     },
     "execution_count": 4,
     "metadata": {},
     "output_type": "execute_result"
    }
   ],
   "source": [
    "enc.transform([['Female', 1], ['Male', 4]]).toarray()"
   ]
  },
  {
   "cell_type": "code",
   "execution_count": 6,
   "metadata": {},
   "outputs": [
    {
     "data": {
      "text/plain": [
       "array([2, 2, 1])"
      ]
     },
     "execution_count": 6,
     "metadata": {},
     "output_type": "execute_result"
    }
   ],
   "source": [
    "le = preprocessing.LabelEncoder()\n",
    "le.fit([\"paris\", \"paris\", \"tokyo\", \"amsterdam\"])\n",
    "le.transform([\"tokyo\", \"tokyo\", \"paris\"])"
   ]
  },
  {
   "cell_type": "code",
   "execution_count": 21,
   "metadata": {},
   "outputs": [],
   "source": []
  },
  {
   "cell_type": "code",
   "execution_count": 9,
   "metadata": {},
   "outputs": [],
   "source": [
    "udo = Node(\"Udo\")\n",
    "marc = Node(\"Marc\", parent=udo)\n",
    "lian = Node(\"Lian\", parent=marc)\n",
    "dan = Node(\"Dan\", parent=udo)\n",
    "jet = Node(\"Jet\", parent=dan)"
   ]
  },
  {
   "cell_type": "code",
   "execution_count": 10,
   "metadata": {},
   "outputs": [
    {
     "name": "stdout",
     "output_type": "stream",
     "text": [
      "Udo\n",
      "├── Marc\n",
      "│   └── Lian\n",
      "└── Dan\n",
      "    └── Jet\n"
     ]
    }
   ],
   "source": [
    "for pre, fill, node in RenderTree(udo):\n",
    "    print(\"%s%s\" % (pre, node.name))"
   ]
  },
  {
   "cell_type": "code",
   "execution_count": 15,
   "metadata": {},
   "outputs": [],
   "source": [
    "a = Node(\"a\",**{'p':1,'q':2})"
   ]
  },
  {
   "cell_type": "code",
   "execution_count": 17,
   "metadata": {},
   "outputs": [],
   "source": [
    "b = Node(\"b\",parent=a, **{'p':1,'q':2})"
   ]
  },
  {
   "cell_type": "code",
   "execution_count": 18,
   "metadata": {},
   "outputs": [
    {
     "name": "stdout",
     "output_type": "stream",
     "text": [
      "a\n",
      "└── b\n"
     ]
    }
   ],
   "source": [
    "for pre, fill, node in RenderTree(a):\n",
    "    print(\"%s%s\" % (pre, node.name))"
   ]
  },
  {
   "cell_type": "code",
   "execution_count": 19,
   "metadata": {},
   "outputs": [
    {
     "data": {
      "text/plain": [
       "Node('/a', p=1, q=2)"
      ]
     },
     "execution_count": 19,
     "metadata": {},
     "output_type": "execute_result"
    }
   ],
   "source": [
    "a."
   ]
  },
  {
   "cell_type": "code",
   "execution_count": 20,
   "metadata": {},
   "outputs": [
    {
     "data": {
      "text/plain": [
       "Node('/Udo')"
      ]
     },
     "execution_count": 20,
     "metadata": {},
     "output_type": "execute_result"
    }
   ],
   "source": [
    "udo"
   ]
  },
  {
   "cell_type": "code",
   "execution_count": 2,
   "metadata": {},
   "outputs": [],
   "source": [
    "class FieldTransform(NodeMixin):\n",
    "    function_name: str = None\n",
    "    scalar: object = None\n",
    "    scalar_type: str = None  # This can be MinMaxScaler or StandardScaler\n",
    "    encoder: object = None\n",
    "    encoder_type: str = None  # This can be OneHotEncoder or LabelEncoder\n",
    "    from_field: str = None  # field name before transformation\n",
    "    to_fields: str = []  # field names after transformation\n",
    "        \n",
    "\n",
    "class FieldTransformNode(FieldTransform, NodeMixin):  # Add Node feature\n",
    "    def __init__(self, name, parent=None, children=None\n",
    "                 , function_name:str = None, scalar: object = None, scalar_type: str = None\n",
    "                 , encoder:object = None, encoder_type: str = None\n",
    "                 , from_field: str = None, to_fields: list = None     \n",
    "                ):\n",
    "        super(FieldTransformNode, self).__init__()\n",
    "        self.name = name\n",
    "        self.parent = parent\n",
    "        if children:\n",
    "            self.children = children\n",
    "        self.function_name = function_name\n",
    "        self.scalar = scalar\n",
    "        self.scalar_type = scalar_type\n",
    "        self.encoder = encoder\n",
    "        self.encoder_type = encoder_type\n",
    "        self.from_field = from_field\n",
    "        self.to_fields = to_fields"
   ]
  },
  {
   "cell_type": "code",
   "execution_count": 3,
   "metadata": {},
   "outputs": [
    {
     "name": "stdout",
     "output_type": "stream",
     "text": [
      "a        StandardScaler(copy=True, with_mean=True, with_std=True)\n",
      "├── b    StandardScaler(copy=True, with_mean=True, with_std=True)\n",
      "└── c    StandardScaler(copy=True, with_mean=True, with_std=True)\n"
     ]
    }
   ],
   "source": [
    "a = FieldTransformNode('a',scalar=StandardScaler(),scalar_type='scalar_type')\n",
    "b = FieldTransformNode('b',parent=a,scalar=StandardScaler(),scalar_type='scalar_type')\n",
    "c = FieldTransformNode('c',parent=a,scalar=StandardScaler(),scalar_type='scalar_type')\n",
    "for pre, _, node in RenderTree(a):\n",
    "    treestr = u\"%s%s\" % (pre, node.name)\n",
    "    print(treestr.ljust(8),node.scalar)\n"
   ]
  },
  {
   "cell_type": "code",
   "execution_count": 4,
   "metadata": {},
   "outputs": [
    {
     "name": "stdout",
     "output_type": "stream",
     "text": [
      "<__main__.FieldTransformNode object at 0x7f3a92a0a050>\n",
      "├── <__main__.FieldTransformNode object at 0x7f3a92a0a0d0>\n",
      "└── <__main__.FieldTransformNode object at 0x7f3a92a0a210>\n"
     ]
    }
   ],
   "source": [
    "x = print(RenderTree(a))"
   ]
  },
  {
   "cell_type": "code",
   "execution_count": 56,
   "metadata": {},
   "outputs": [
    {
     "name": "stdout",
     "output_type": "stream",
     "text": [
      "a       \n"
     ]
    }
   ],
   "source": [
    "for pre, fill, node in RenderTree(a):\n",
    "    treestr = u\"%s%s\" % (pre, node.name)\n",
    "    print(treestr.ljust(8))"
   ]
  },
  {
   "cell_type": "code",
   "execution_count": 64,
   "metadata": {},
   "outputs": [],
   "source": [
    "class MyBaseClass(object):  # Just an example of a base class\n",
    "    foo = 4\n",
    "\n",
    "class MyClass(MyBaseClass, NodeMixin):  # Add Node feature\n",
    "    def __init__(self, name, parent=None, children=None, foo=0):\n",
    "        super(MyClass, self).__init__()\n",
    "        self.name = name\n",
    "#         self.length = length\n",
    "#         self.width = width\n",
    "        self.parent = parent\n",
    "        if children:\n",
    "            self.children = children\n",
    "        self.foo = foo"
   ]
  },
  {
   "cell_type": "code",
   "execution_count": 68,
   "metadata": {},
   "outputs": [
    {
     "name": "stdout",
     "output_type": "stream",
     "text": [
      "my0      2\n",
      "├── my1  4\n",
      "└── my2  6\n",
      "    └── my2 8\n"
     ]
    }
   ],
   "source": [
    "my0 = MyClass('my0', foo = 2)\n",
    "my1 = MyClass('my1', parent=my0, foo = 4)\n",
    "my2 = MyClass('my2', parent=my0 , foo = 6)\n",
    "my3 = MyClass('my2', parent=my2 , foo = 8)\n",
    "for pre, _, node in RenderTree(my0):\n",
    "    treestr = u\"%s%s\" % (pre, node.name)\n",
    "    print(treestr.ljust(8),node.foo)\n"
   ]
  },
  {
   "cell_type": "code",
   "execution_count": 73,
   "metadata": {},
   "outputs": [
    {
     "data": {
      "text/plain": [
       "4"
      ]
     },
     "execution_count": 73,
     "metadata": {},
     "output_type": "execute_result"
    }
   ],
   "source": [
    "my0.children[0].foo"
   ]
  },
  {
   "cell_type": "code",
   "execution_count": 11,
   "metadata": {},
   "outputs": [
    {
     "data": {
      "image/png": "[encoded data removed]",
      "text/plain": [
       "<IPython.core.display.Image object>"
      ]
     },
     "execution_count": 11,
     "metadata": {},
     "output_type": "execute_result"
    }
   ],
   "source": [
    "DotExporter(a).to_picture('udo.png')\n",
    "from IPython.display import Image\n",
    "Image('udo.png')"
   ]
  },
  {
   "cell_type": "code",
   "execution_count": 85,
   "metadata": {},
   "outputs": [
    {
     "data": {
      "text/plain": [
       "<__main__.FieldTransformNode at 0x7f907708a050>"
      ]
     },
     "execution_count": 85,
     "metadata": {},
     "output_type": "execute_result"
    }
   ],
   "source": [
    "a"
   ]
  },
  {
   "cell_type": "code",
   "execution_count": 5,
   "metadata": {},
   "outputs": [
    {
     "data": {
      "text/plain": "10"
     },
     "metadata": {},
     "output_type": "display_data"
    },
    {
     "data": {
      "text/plain": "5"
     },
     "metadata": {},
     "output_type": "display_data"
    }
   ],
   "source": [
    "class TypeTransformedData:\n",
    "    data_type: int = None\n",
    "    run: bool = True\n",
    "    srs: pd.Series = None\n",
    "    srs_out: pd.Series = None\n",
    "    success_count: float = None\n",
    "    percentage: float = None\n",
    "    threshold: float = 80\n",
    "    sample_size: float = 5\n",
    "    iterations: int = 3\n",
    "\n",
    "    def __init__(self, srs: pd.Series, run: bool = True, **kwargs):\n",
    "        self.srs = srs\n",
    "        self.run = self.run if run is None else run\n",
    "        self._import_kwargs(**kwargs)\n",
    "\n",
    "    def _import_kwargs(self, **kwargs):\n",
    "        ignored_keys = set(['srs', 'run'])\n",
    "        self.__dict__.update((key, value) for key, value in kwargs.items() if key not in ignored_keys)\n",
    "\n",
    "srs = pd.Series([1,2,3,4])\n",
    "paras = {\n",
    "    'threshold': 10,\n",
    "    'iterations': 5\n",
    "}\n",
    "\n",
    "obj = TypeTransformedData(srs=srs,**paras)\n",
    "display(obj.threshold)\n",
    "display(obj.iterations)"
   ]
  },
  {
   "cell_type": "code",
   "execution_count": null,
   "outputs": [],
   "source": [
    "\n"
   ],
   "metadata": {
    "collapsed": false,
    "pycharm": {
     "name": "#%%\n"
    }
   }
  }
 ],
 "metadata": {
  "kernelspec": {
   "display_name": "Python 3",
   "language": "python",
   "name": "python3"
  },
  "language_info": {
   "codemirror_mode": {
    "name": "ipython",
    "version": 3
   },
   "file_extension": ".py",
   "mimetype": "text/x-python",
   "name": "python",
   "nbconvert_exporter": "python",
   "pygments_lexer": "ipython3",
   "version": "3.7.6"
  }
 },
 "nbformat": 4,
 "nbformat_minor": 4
}